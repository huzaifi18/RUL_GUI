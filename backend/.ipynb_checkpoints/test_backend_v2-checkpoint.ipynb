{
 "cells": [
  {
   "cell_type": "code",
   "execution_count": 1,
   "id": "6358c5cf",
   "metadata": {},
   "outputs": [
    {
     "name": "stdout",
     "output_type": "stream",
     "text": [
      "WARNING:tensorflow:From C:\\Users\\Huzaifi\\AppData\\Local\\Temp/ipykernel_16596/760899637.py:11: The name tf.keras.backend.set_session is deprecated. Please use tf.compat.v1.keras.backend.set_session instead.\n",
      "\n"
     ]
    }
   ],
   "source": [
    "import utils_v2 as utils\n",
    "import matplotlib.pyplot as plt\n",
    "import tensorflow as tf\n",
    "import numpy as np\n",
    "import os\n",
    "SEED = 12345\n",
    "tf.compat.v1.random.set_random_seed(SEED)\n",
    "tf.random.set_seed(SEED)\n",
    "session_conf = tf.compat.v1.ConfigProto(intra_op_parallelism_threads=1, inter_op_parallelism_threads=1)\n",
    "sess = tf.compat.v1.Session(graph=tf.compat.v1.get_default_graph(), config=session_conf)\n",
    "tf.compat.v1.keras.backend.set_session(sess)"
   ]
  },
  {
   "cell_type": "code",
   "execution_count": 2,
   "id": "a765f993",
   "metadata": {},
   "outputs": [],
   "source": [
    "data = \"B06\" # [B05, B06, B07, B18]"
   ]
  },
  {
   "cell_type": "code",
   "execution_count": 3,
   "id": "60afdb25",
   "metadata": {},
   "outputs": [],
   "source": [
    "feature = \"C + VIT\" # [C + V, C + VIT]"
   ]
  },
  {
   "cell_type": "code",
   "execution_count": 4,
   "id": "9a5d2455",
   "metadata": {},
   "outputs": [],
   "source": [
    "model = \"hybrid\" # [LSTM, hybrid]"
   ]
  },
  {
   "cell_type": "code",
   "execution_count": 5,
   "id": "2da60067",
   "metadata": {},
   "outputs": [],
   "source": [
    "dataDict = {\n",
    "    \"B05\" : 0,\n",
    "    \"B06\" : 1,\n",
    "    \"B07\" : 2,\n",
    "    \"B18\" : 3,\n",
    "}"
   ]
  },
  {
   "cell_type": "code",
   "execution_count": 6,
   "id": "ab590a3b",
   "metadata": {},
   "outputs": [],
   "source": [
    "featureDict = {\n",
    "    \"C + V\" : 0,\n",
    "    \"C + VIT\" : 1\n",
    "}"
   ]
  },
  {
   "cell_type": "code",
   "execution_count": 7,
   "id": "dbdf35a3",
   "metadata": {},
   "outputs": [],
   "source": [
    "modelDict = {\n",
    "    \"LSTM\" : 0,\n",
    "    \"hybrid\": 1\n",
    "}"
   ]
  },
  {
   "cell_type": "markdown",
   "id": "327dcb6d",
   "metadata": {},
   "source": [
    "# Ekstraksi Data"
   ]
  },
  {
   "cell_type": "code",
   "execution_count": 8,
   "id": "ded711a9",
   "metadata": {},
   "outputs": [],
   "source": [
    "dataPath = \"data/NASA/\""
   ]
  },
  {
   "cell_type": "code",
   "execution_count": 9,
   "id": "6adbfeb4",
   "metadata": {},
   "outputs": [],
   "source": [
    "x_test, y_test = utils.getData(dataPath)"
   ]
  },
  {
   "cell_type": "code",
   "execution_count": 10,
   "id": "4eae91cc",
   "metadata": {},
   "outputs": [
    {
     "name": "stdout",
     "output_type": "stream",
     "text": [
      "Feature: Multi-channel  C + VIT\n",
      "Model:  hybrid\n"
     ]
    }
   ],
   "source": [
    "if featureDict[feature] == 0:\n",
    "    print(\"Feature: Single-channel \",feature)\n",
    "    if modelDict[model] == 0 :\n",
    "        print(\"Model: \", model)\n",
    "        testX, testY, SS = utils.extract_VIT_capacity([x_test[dataDict[data]]], [y_test[dataDict[data]]], 5, 1, 10,\n",
    "                                              featureDict[feature], modelDict[model])\n",
    "        SC_LSTM_model = tf.keras.models.load_model(\"model_from_colab/SC/LSTM/SC_LSTM_5_B18_k2/saved_model_and_weight/\")\n",
    "        SC_LSTM_pred = SC_LSTM_model.predict(testX)\n",
    "        inv_pred = SS.inverse_transform(SC_LSTM_pred)\n",
    "        pred = inv_pred.reshape(inv_pred.shape[0])\n",
    "        X = range(len(inv_pred))\n",
    "        pred_flat = inv_pred.flatten()\n",
    "        \n",
    "    elif modelDict[model] == 1:\n",
    "        print(\"Model: \", model)\n",
    "        testX_SC_h_LSTM, testY_SC_h_LSTM, SS = utils.extract_VIT_capacity([x_test[dataDict[data]]], [y_test[dataDict[data]]], 5, 1, 10,\n",
    "                                              featureDict[feature], modelDict[model], c = True)\n",
    "        testX_SC_h_CNN, testY_SC_h_CNN, SS = utils.extract_VIT_capacity([x_test[dataDict[data]]], [y_test[dataDict[data]]], 5, 1, 10,\n",
    "                                              featureDict[feature], modelDict[model])\n",
    "        SC_hybrid_model = tf.keras.models.load_model(\"model_from_colab/SC/hybrid/SC-CNN-LSTM_5_B07_k2/saved_model_and_weight/\")\n",
    "        SC_hybrid_pred = SC_hybrid_model.predict([testX_SC_h_LSTM, testX_SC_h_CNN])\n",
    "        inv_pred = SS.inverse_transform(SC_hybrid_pred)  \n",
    "        pred = inv_pred.reshape(inv_pred.shape[0])\n",
    "        X = range(len(inv_pred))\n",
    "        pred_flat = inv_pred.flatten()\n",
    "        \n",
    "elif featureDict[feature] == 1:\n",
    "    print(\"Feature: Multi-channel \", feature)\n",
    "    if modelDict[model] == 0:\n",
    "        print(\"Model: \", model)\n",
    "        testX, testY, SS = utils.extract_VIT_capacity([x_test[dataDict[data]]], [y_test[dataDict[data]]], 5, 1, 10,\n",
    "                                              featureDict[feature], modelDict[model])\n",
    "        MC_LSTM_model = tf.keras.models.load_model(\"model_from_colab/MC/LSTM/MC_LSTM_5_B06_k2/saved_model_and_weight/\")\n",
    "        MC_LSTM_pred = MC_LSTM_model.predict(testX)\n",
    "        inv_pred = SS.inverse_transform(MC_LSTM_pred)\n",
    "        pred = inv_pred.reshape(inv_pred.shape[0])\n",
    "        X = range(len(inv_pred))\n",
    "        pred_flat = inv_pred.flatten()\n",
    "        \n",
    "    elif modelDict[model] == 1:\n",
    "        print(\"Model: \", model)\n",
    "        testX_MC_h_LSTM, testY_MC_h_LSTM, SS = utils.extract_VIT_capacity([x_test[dataDict[data]]], [y_test[dataDict[data]]], 5, 1, 10,\n",
    "                                              featureDict[feature], modelDict[model], c = True)\n",
    "        testX_MC_h_V_CNN, testY_MC_h_V_CNN, SS = utils.extract_VIT_capacity([x_test[dataDict[data]]], [y_test[dataDict[data]]], 5, 1, 10,\n",
    "                                              featureDict[feature], modelDict[model], v = True)\n",
    "        testX_MC_h_I_CNN, testY_MC_h_I_CNN, SS = utils.extract_VIT_capacity([x_test[dataDict[data]]], [y_test[dataDict[data]]], 5, 1, 10,\n",
    "                                              featureDict[feature], modelDict[model], II = True)\n",
    "        testX_MC_h_T_CNN, testY_MC_h_T_CNN, SS = utils.extract_VIT_capacity([x_test[dataDict[data]]], [y_test[dataDict[data]]], 5, 1, 10,\n",
    "                                              featureDict[feature], modelDict[model], t = True)\n",
    "        MC_hybrid_model = tf.keras.models.load_model(\"model_from_colab/MC/hybrid/SCNN+LSTM_5_B07_k3/saved_model_and_weight/\")\n",
    "        MC_hybrid_pred = MC_hybrid_model.predict([testX_MC_h_LSTM, testX_MC_h_V_CNN, testX_MC_h_I_CNN, testX_MC_h_T_CNN])\n",
    "        inv_pred = SS.inverse_transform(MC_hybrid_pred)\n",
    "        pred = inv_pred.reshape(inv_pred.shape[0])\n",
    "        X = range(len(inv_pred))\n",
    "        pred_flat = inv_pred.flatten()"
   ]
  },
  {
   "cell_type": "code",
   "execution_count": 11,
   "id": "a309dee2",
   "metadata": {},
   "outputs": [],
   "source": [
    "threshold = np.zeros((len(inv_pred)))\n",
    "threshold.fill(1.4)\n",
    "t = threshold"
   ]
  },
  {
   "cell_type": "code",
   "execution_count": 12,
   "id": "eaeeaa01",
   "metadata": {},
   "outputs": [],
   "source": [
    "if dataDict[data] == 0:\n",
    "    intersection = np.argwhere(np.isclose(t, pred_flat, rtol=0.001, atol=0.001)).flatten()\n",
    "elif dataDict[data] == 3 and modelDict[model] == 1 and featureDict[feature] == 0:\n",
    "    intersection = np.argwhere(np.diff(np.sign(t - pred_flat))).flatten()\n",
    "    intersection = intersection + 1\n",
    "elif dataDict[data] == 3:\n",
    "    intersection = np.argwhere(np.diff(np.sign(t - pred_flat))).flatten()\n",
    "else:\n",
    "    intersection = np.argwhere(np.diff(np.sign(t - pred_flat))).flatten()"
   ]
  },
  {
   "cell_type": "code",
   "execution_count": 13,
   "id": "11f08138",
   "metadata": {
    "scrolled": false
   },
   "outputs": [
    {
     "data": {
      "image/png": "[encoded data removed]",
      "text/plain": [
       "<Figure size 1080x432 with 2 Axes>"
      ]
     },
     "metadata": {
      "needs_background": "light"
     },
     "output_type": "display_data"
    }
   ],
   "source": [
    "fig, (ax1, ax2) = plt.subplots(1, 2, figsize=(15, 6), gridspec_kw={'width_ratios': [8, 1]})\n",
    "try: \n",
    "    ax1.plot(X[60:81], pred_flat[60:81], linewidth=2, color='k')\n",
    "    ax1.plot(X[80:intersection[-1]+1], pred_flat[80:intersection[-1]+1], linewidth=2, color='b')\n",
    "    ax1.plot(X[intersection[-1]:], pred_flat[intersection[-1]:], linewidth=2, color='b', ls=':')\n",
    "\n",
    "    ax1.axvline(x=80, color='g', ls='--', label=\"Starting Point\")\n",
    "    ax1.axvline(intersection[-1], color='g', ls='--')\n",
    "\n",
    "    ax1.axhline(y=1.4, color='r', ls='-.', label=\"Failure Threshold\")\n",
    "\n",
    "    ax1.set_ylabel(\"Capacity (Ah)\")\n",
    "    ax1.set_xlabel(\"Cycles\")\n",
    "\n",
    "    # ax2 = fig.add_subplot(122)\n",
    "    ax2.bar(['Remaining Cycle'], [intersection[-1]-80], color = 'g')\n",
    "    ax2.set_yticks(np.arange(0, max(X), 10));\n",
    "    \n",
    "except Exception as e:\n",
    "    ax1.plot(X, pred_flat, linewidth=2, color='k')\n",
    "    ax1.set_yticks(np.arange(1.4, max(pred_flat), 0.15));\n",
    "    ax2.set_yticks(np.arange(0, max(X), 10));\n",
    "    ax2.set_xticks([1]);\n",
    "    ax1.set_ylabel(\"Capacity (Ah)\")\n",
    "    ax1.set_xlabel(\"Cycles\")\n",
    "    ax2.set_xlabel(\"Remaining cycles\")\n",
    "\n",
    "fig.tight_layout()\n",
    "plt.subplots_adjust(right=0.9,\n",
    "                    wspace=0.2)"
   ]
  },
  {
   "cell_type": "code",
   "execution_count": 14,
   "id": "8225e43f",
   "metadata": {},
   "outputs": [],
   "source": [
    "text = f\"{intersection[-1]-80} cycles remaining\""
   ]
  },
  {
   "cell_type": "code",
   "execution_count": 15,
   "id": "301e9147",
   "metadata": {},
   "outputs": [
    {
     "name": "stdout",
     "output_type": "stream",
     "text": [
      "40 cycles remaining\n"
     ]
    }
   ],
   "source": [
    "print(text)"
   ]
  }
 ],
 "metadata": {
  "kernelspec": {
   "display_name": "Python [conda env:tf]",
   "language": "python",
   "name": "conda-env-tf-py"
  },
  "language_info": {
   "codemirror_mode": {
    "name": "ipython",
    "version": 3
   },
   "file_extension": ".py",
   "mimetype": "text/x-python",
   "name": "python",
   "nbconvert_exporter": "python",
   "pygments_lexer": "ipython3",
   "version": "3.7.11"
  }
 },
 "nbformat": 4,
 "nbformat_minor": 5
}
