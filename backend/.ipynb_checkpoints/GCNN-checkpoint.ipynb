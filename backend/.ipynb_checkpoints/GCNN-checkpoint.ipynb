{
 "cells": [
  {
   "cell_type": "code",
   "execution_count": 1,
   "id": "b3d0ad28",
   "metadata": {},
   "outputs": [],
   "source": [
    "import utils\n",
    "import matplotlib.pyplot as plt\n",
    "import tensorflow as tf\n",
    "import numpy as np\n",
    "import os\n",
    "from pandas import read_csv\n",
    "from sklearn.preprocessing import MinMaxScaler"
   ]
  },
  {
   "cell_type": "code",
   "execution_count": 2,
   "id": "ec568545",
   "metadata": {},
   "outputs": [],
   "source": [
    "data = \"B05\" # [B05, B06, B07, B18]"
   ]
  },
  {
   "cell_type": "code",
   "execution_count": 3,
   "id": "6cc28d65",
   "metadata": {},
   "outputs": [],
   "source": [
    "feature = \"C\""
   ]
  },
  {
   "cell_type": "code",
   "execution_count": 4,
   "id": "bd894b7d",
   "metadata": {},
   "outputs": [],
   "source": [
    "model = \"GCNN\""
   ]
  },
  {
   "cell_type": "code",
   "execution_count": 5,
   "id": "41b2a30d",
   "metadata": {},
   "outputs": [],
   "source": [
    "dataDict = {\n",
    "    \"B05\" : 0,\n",
    "    \"B06\" : 1,\n",
    "    \"B07\" : 2,\n",
    "    \"B18\" : 3,\n",
    "}"
   ]
  },
  {
   "cell_type": "code",
   "execution_count": 6,
   "id": "50f464c5",
   "metadata": {},
   "outputs": [],
   "source": [
    "featureDict = {\n",
    "    \"C\": 0\n",
    "}"
   ]
  },
  {
   "cell_type": "code",
   "execution_count": 7,
   "id": "ff858953",
   "metadata": {},
   "outputs": [],
   "source": [
    "modelDict = {\n",
    "    \"GCNN\" : 0\n",
    "}"
   ]
  },
  {
   "cell_type": "code",
   "execution_count": 8,
   "id": "9e4c9104",
   "metadata": {},
   "outputs": [],
   "source": [
    "dataPath = \"data/NASA/\""
   ]
  },
  {
   "cell_type": "code",
   "execution_count": 9,
   "id": "d05379e2",
   "metadata": {},
   "outputs": [],
   "source": [
    "def create_dataset(datasets, look_back=1, hop=1):\n",
    "    x = []  # inputs\n",
    "    y = []  # targets\n",
    "    z = []  # cycle index\n",
    "\n",
    "    for data in datasets:\n",
    "        # dataframe = read_csv(data, usecols=[9]).dropna()\n",
    "        dataframe = read_csv(data).dropna()\n",
    "        dataframe['cycle_idx'] = dataframe.index + 1\n",
    "        dataframe = dataframe[['capacity', 'cycle_idx']]\n",
    "        # Convert pandas dataframe to numpy array\n",
    "        dataset = dataframe.values\n",
    "        dataset = dataset.astype('float32')  # Convert values to float\n",
    "\n",
    "        data_len = np.int(np.floor((len(dataset) - look_back - 1) / hop)) + 1\n",
    "        for i in range(data_len):\n",
    "            a = dataset[(hop * i):(hop * i + look_back), 0]\n",
    "            x.append(a)\n",
    "            y.append(dataset[hop * i + look_back, 0])\n",
    "    return np.array(x), np.array(y)"
   ]
  },
  {
   "cell_type": "code",
   "execution_count": 10,
   "id": "d9be0490",
   "metadata": {},
   "outputs": [],
   "source": [
    "def preprocess(dataset, norm_type, scaler=None, train=True):\n",
    "    if norm_type == 'rescale':\n",
    "        scaler = MinMaxScaler(feature_range=(0, 1))\n",
    "        scaled_data = scaler.fit_transform(dataset)\n",
    "    else:\n",
    "        scaled_data = scaler.transform(dataset)\n",
    "    return scaled_data, scaler"
   ]
  },
  {
   "cell_type": "code",
   "execution_count": 11,
   "id": "709da26a",
   "metadata": {},
   "outputs": [],
   "source": [
    "test_data = [os.path.join(\"data/NASA/\", 'discharge/test', f) for f in os.listdir(os.path.join(\"data/NASA/\", 'discharge/test'))]"
   ]
  },
  {
   "cell_type": "code",
   "execution_count": 12,
   "id": "38801b47",
   "metadata": {},
   "outputs": [
    {
     "data": {
      "text/plain": [
       "['data/NASA/discharge/test\\\\B0005_discharge.csv',\n",
       " 'data/NASA/discharge/test\\\\B0006_discharge.csv',\n",
       " 'data/NASA/discharge/test\\\\B0007_discharge.csv',\n",
       " 'data/NASA/discharge/test\\\\B0018_discharge.csv',\n",
       " 'data/NASA/discharge/test\\\\desktop.ini']"
      ]
     },
     "execution_count": 12,
     "metadata": {},
     "output_type": "execute_result"
    }
   ],
   "source": [
    "test_data"
   ]
  },
  {
   "cell_type": "code",
   "execution_count": 13,
   "id": "63dfc208",
   "metadata": {},
   "outputs": [
    {
     "name": "stderr",
     "output_type": "stream",
     "text": [
      "C:\\Users\\Huzaifi\\anaconda3\\envs\\tf\\lib\\site-packages\\ipykernel_launcher.py:15: DeprecationWarning: `np.int` is a deprecated alias for the builtin `int`. To silence this warning, use `int` by itself. Doing this will not modify any behavior and is safe. When replacing `np.int`, you may wish to use e.g. `np.int64` or `np.int32` to specify the precision. If you wish to review your current use, check the release note link for additional information.\n",
      "Deprecated in NumPy 1.20; for more details and guidance: https://numpy.org/devdocs/release/1.20.0-notes.html#deprecations\n",
      "  from ipykernel import kernelapp as app\n"
     ]
    }
   ],
   "source": [
    "testX, testY = create_dataset([test_data[dataDict[data]]], 5, 1)\n",
    "testX, SS = preprocess(testX, norm_type='rescale', train=False)"
   ]
  },
  {
   "cell_type": "code",
   "execution_count": 14,
   "id": "4e37b9f3",
   "metadata": {},
   "outputs": [],
   "source": [
    "model = tf.keras.models.load_model(\"model/gcnn_k2.h5\")\n",
    "pred = model.predict(testX)\n",
    "pred = pred.reshape(pred.shape[0])\n",
    "X = range(len(pred))\n",
    "pred_flat = pred.flatten()"
   ]
  },
  {
   "cell_type": "code",
   "execution_count": 15,
   "id": "4961408c",
   "metadata": {},
   "outputs": [
    {
     "data": {
      "text/plain": [
       "1.4"
      ]
     },
     "execution_count": 15,
     "metadata": {},
     "output_type": "execute_result"
    }
   ],
   "source": [
    "failure_point = round(float(max(pred)*0.75), 2)\n",
    "threshold = np.zeros((len(pred)))\n",
    "threshold.fill(failure_point)\n",
    "t = threshold\n",
    "failure_point"
   ]
  },
  {
   "cell_type": "code",
   "execution_count": 16,
   "id": "f1d17712",
   "metadata": {},
   "outputs": [],
   "source": [
    "intersection = np.argwhere(np.diff(np.sign(t - pred_flat))).flatten()"
   ]
  },
  {
   "cell_type": "code",
   "execution_count": 17,
   "id": "b1a050de",
   "metadata": {},
   "outputs": [
    {
     "data": {
      "text/plain": [
       "array([117, 118, 119], dtype=int64)"
      ]
     },
     "execution_count": 17,
     "metadata": {},
     "output_type": "execute_result"
    }
   ],
   "source": [
    "intersection"
   ]
  },
  {
   "cell_type": "code",
   "execution_count": 19,
   "id": "a6089c59",
   "metadata": {},
   "outputs": [
    {
     "data": {
      "text/plain": [
       "<matplotlib.legend.Legend at 0x22dd2e76988>"
      ]
     },
     "execution_count": 19,
     "metadata": {},
     "output_type": "execute_result"
    },
    {
     "data": {
      "image/png": "[encoded data removed]",
      "text/plain": [
       "<Figure size 1080x432 with 1 Axes>"
      ]
     },
     "metadata": {
      "needs_background": "light"
     },
     "output_type": "display_data"
    }
   ],
   "source": [
    "plt.figure(figsize=(15,6))\n",
    "text = f\"RUL = {intersection[-1] - 60} cycles\" \n",
    "plt.gcf().text(0.37, 0.83, text, fontsize=12)\n",
    "\n",
    "plt.plot(X[60:],testY[60:], label=\"Actual\", color='y')\n",
    "plt.plot(X[60:81], pred_flat[60:81], linewidth=2, color='k')\n",
    "plt.plot(X[80:intersection[-1]+1], pred_flat[80:intersection[-1]+1], linewidth=2, color='b')\n",
    "plt.plot(X[intersection[-1]:], pred_flat[intersection[-1]:], linewidth=2, color='b', ls=':')\n",
    "plt.axvline(x=80, color='g', ls='--', label=\"Starting Point\")\n",
    "plt.axvline(intersection[-1], color='m', ls='--', label=\"End of Life\")\n",
    "plt.axhline(y=1.4, color='r', ls='-.', label=\"Failure Threshold\")\n",
    "plt.ylabel(\"Capacity (Ah)\", fontsize=12)\n",
    "plt.xlabel(\"Cycles\", fontsize=12)\n",
    "plt.legend()"
   ]
  }
 ],
 "metadata": {
  "kernelspec": {
   "display_name": "Python [conda env:tf]",
   "language": "python",
   "name": "conda-env-tf-py"
  },
  "language_info": {
   "codemirror_mode": {
    "name": "ipython",
    "version": 3
   },
   "file_extension": ".py",
   "mimetype": "text/x-python",
   "name": "python",
   "nbconvert_exporter": "python",
   "pygments_lexer": "ipython3",
   "version": "3.7.11"
  }
 },
 "nbformat": 4,
 "nbformat_minor": 5
}
