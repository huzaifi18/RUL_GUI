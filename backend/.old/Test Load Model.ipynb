{
 "cells": [
  {
   "cell_type": "code",
   "execution_count": 1,
   "id": "30adfde4",
   "metadata": {},
   "outputs": [],
   "source": [
    "import tensorflow as tf\n",
    "import os"
   ]
  },
  {
   "cell_type": "code",
   "execution_count": 2,
   "id": "70f41e3f",
   "metadata": {},
   "outputs": [],
   "source": [
    "from numpy.random import seed\n",
    "seed(1)\n",
    "import tensorflow as tf\n",
    "tf.compat.v1.random.set_random_seed(1)\n",
    "\n",
    "import numpy as np\n",
    "import matplotlib.pyplot as plt\n",
    "from pandas import read_csv, DataFrame\n",
    "from math import sqrt\n",
    "import os\n",
    "from sklearn.model_selection import KFold\n",
    "# import shutil\n",
    "import json\n",
    "import re\n",
    "\n",
    "from sklearn.preprocessing import MinMaxScaler, StandardScaler, RobustScaler\n",
    "from sklearn.metrics import mean_squared_error, mean_absolute_error, mean_absolute_percentage_error\n",
    "from tensorflow.keras.callbacks import EarlyStopping, ModelCheckpoint\n",
    "from tensorflow.keras.optimizers import *"
   ]
  },
  {
   "cell_type": "code",
   "execution_count": 3,
   "id": "2e133dfb",
   "metadata": {},
   "outputs": [],
   "source": [
    "model = tf.keras.models.load_model(\"D:\\saving Mydoc\\Kuliah\\PKL\\File saya\\Weighted\\code_keras\\saved_models_multi\\Transformer_B18_False_head1\\Transformer_h32_bs50_ep100_w5_Adam_lr0.001_k1\\saved_model_and_weights\")"
   ]
  },
  {
   "cell_type": "code",
   "execution_count": 4,
   "id": "3257a4ea",
   "metadata": {},
   "outputs": [],
   "source": [
    "def preprocess(dataset):\n",
    "    scalers = {}\n",
    "    for i in range(dataset.shape[1]):\n",
    "      scalers[i] = MinMaxScaler(feature_range=(0, 1))\n",
    "      dataset[:,i,:] = scalers[i].fit_transform(dataset[:,i,:])\n",
    "    return dataset, scalers"
   ]
  },
  {
   "cell_type": "code",
   "execution_count": 5,
   "id": "0de16f9c",
   "metadata": {},
   "outputs": [],
   "source": [
    "def extract_VIT_capacity(x_datasets, y_datasets, seq_len, hop, sample):\n",
    "    x = [] # VITC = inputs voltage, current, temperature (in vector) + capacity (in scalar)\n",
    "    y = [] # target capacity (in scalar)\n",
    "    z = [] # cycle index\n",
    "    SS = [] # scaler\n",
    "    VITC = [] # temporary input\n",
    "\n",
    "    for x_data, y_data in zip(x_datasets, y_datasets):\n",
    "        # Load VIT from charging profile\n",
    "        x_df = read_csv(x_data).dropna()\n",
    "        x_df = x_df[['cycle','voltage_battery','current_battery','temp_battery']]\n",
    "        x_df['cycle'] = x_df['cycle']+1\n",
    "        x_len = len(x_df.cycle.unique()) #- seq_len\n",
    "\n",
    "        # Load capacity from discharging profile\n",
    "        y_df = read_csv(y_data).dropna()\n",
    "        y_df['cycle_idx'] = y_df.index+1\n",
    "        y_df = y_df[['capacity', 'cycle_idx']]\n",
    "        y_df = y_df.values # Convert pandas dataframe to numpy array\n",
    "        y_df = y_df.astype('float32') # Convert values to float\n",
    "        y_len = len(y_df) #- seq_len\n",
    "\n",
    "        data_len = np.int32(np.floor((y_len - seq_len-1)/hop)) + 1\n",
    "        for i in range(y_len):\n",
    "            cy = x_df.cycle.unique()[i]\n",
    "            df = x_df.loc[x_df['cycle']==cy]\n",
    "            # Voltage measured\n",
    "            le = len(df['voltage_battery']) % sample\n",
    "            vTemp = df['voltage_battery'].to_numpy()\n",
    "            if le != 0:\n",
    "                vTemp = vTemp[0:-le]\n",
    "            vTemp = np.reshape(vTemp, (len(vTemp)//sample,-1)) #, order=\"F\")\n",
    "            vTemp = vTemp.mean(axis=0)\n",
    "            # Current measured\n",
    "            iTemp = df['current_battery'].to_numpy()\n",
    "            if le != 0:\n",
    "                iTemp = iTemp[0:-le]\n",
    "            iTemp = np.reshape(iTemp, (len(iTemp)//sample,-1)) #, order=\"F\")\n",
    "            iTemp = iTemp.mean(axis=0)\n",
    "            # Temperature measured\n",
    "            tTemp = df['temp_battery'].to_numpy()\n",
    "            if le != 0:\n",
    "                tTemp = tTemp[0:-le]\n",
    "            tTemp = np.reshape(tTemp, (len(tTemp)//sample,-1)) #, order=\"F\")\n",
    "            tTemp = tTemp.mean(axis=0)\n",
    "            # Capacity measured\n",
    "            cap = np.array([y_df[i, 0]])\n",
    "            # Combined\n",
    "            VITC_inp = np.concatenate((vTemp, iTemp, tTemp, cap))\n",
    "            VITC.append(VITC_inp)\n",
    "\n",
    "        # Normalize using MinMaxScaler\n",
    "        df_VITC = DataFrame(VITC).values\n",
    "        scaled_x, scaler = preprocess(df_VITC[:, :, np.newaxis])\n",
    "        scaled_x = scaled_x.astype('float32')[:, :, 0] # Convert values to float\n",
    "\n",
    "        # Create input data\n",
    "        for i in range(data_len):\n",
    "            x.append(scaled_x[(hop*i):(hop*i+seq_len), :])\n",
    "            y.append(scaled_x[hop*i+seq_len, -1])\n",
    "            # z.append(y_df[hop*i+seq_len, 1])\n",
    "        SS.append(scaler)\n",
    "        # import pdb; pdb.set_trace()\n",
    "    return np.array(x), np.array(y)[:, np.newaxis], SS"
   ]
  },
  {
   "cell_type": "code",
   "execution_count": 10,
   "id": "65d9403d",
   "metadata": {},
   "outputs": [
    {
     "name": "stdout",
     "output_type": "stream",
     "text": [
      "train X: ['Data/NASA/charge/train\\\\B0005_charge.csv', 'Data/NASA/charge/train\\\\B0007_charge.csv', 'Data/NASA/charge/train\\\\B0018_charge.csv']\n",
      "train Y: ['Data/NASA/discharge/train\\\\B0005_discharge.csv', 'Data/NASA/discharge/train\\\\B0007_discharge.csv', 'Data/NASA/discharge/train\\\\B0018_discharge.csv']\n"
     ]
    }
   ],
   "source": [
    "pth = \"Data/NASA/\"\n",
    "train_x_files = [os.path.join(pth,'charge/train',f) for f in os.listdir(os.path.join(pth, 'charge/train'))]\n",
    "train_x_files.sort(key=lambda f: int(re.sub('\\D', '', f)))\n",
    "train_y_files = [os.path.join(pth,'discharge/train',f) for f in os.listdir(os.path.join(pth, 'discharge/train'))]\n",
    "train_y_files.sort(key=lambda f: int(re.sub('\\D', '', f)))\n",
    "test_x_data = [os.path.join(pth,'charge/test',f) for f in os.listdir(os.path.join(pth, 'charge/test'))]\n",
    "test_y_data = [os.path.join(pth,'discharge/test',f) for f in os.listdir(os.path.join(pth, 'discharge/test'))]\n",
    "print(\"train X:\", train_x_files)\n",
    "print(\"train Y:\", train_y_files)"
   ]
  },
  {
   "cell_type": "code",
   "execution_count": 11,
   "id": "2125083b",
   "metadata": {},
   "outputs": [
    {
     "data": {
      "text/plain": [
       "['Data/NASA/charge/test\\\\B0006_charge.csv']"
      ]
     },
     "execution_count": 11,
     "metadata": {},
     "output_type": "execute_result"
    }
   ],
   "source": [
    "test_x_data"
   ]
  },
  {
   "cell_type": "code",
   "execution_count": 24,
   "id": "77f408f5",
   "metadata": {},
   "outputs": [],
   "source": [
    "testX, testY, SS_tt = extract_VIT_capacity(test_x_data, test_y_data, 5, 1, 10)"
   ]
  },
  {
   "cell_type": "code",
   "execution_count": 40,
   "id": "62d2ecd8",
   "metadata": {},
   "outputs": [
    {
     "data": {
      "text/plain": [
       "(127, 5, 31)"
      ]
     },
     "execution_count": 40,
     "metadata": {},
     "output_type": "execute_result"
    }
   ],
   "source": [
    "testX.shape"
   ]
  },
  {
   "cell_type": "code",
   "execution_count": 41,
   "id": "b9779946",
   "metadata": {},
   "outputs": [
    {
     "data": {
      "text/plain": [
       "(127, 1)"
      ]
     },
     "execution_count": 41,
     "metadata": {},
     "output_type": "execute_result"
    }
   ],
   "source": [
    "testY.shape"
   ]
  },
  {
   "cell_type": "code",
   "execution_count": 25,
   "id": "2e67b293",
   "metadata": {},
   "outputs": [],
   "source": [
    "testPredict = model.predict(testX)"
   ]
  },
  {
   "cell_type": "code",
   "execution_count": 26,
   "id": "9300ab41",
   "metadata": {},
   "outputs": [
    {
     "name": "stdout",
     "output_type": "stream",
     "text": [
      "4/4 [==============================] - 0s 27ms/step - loss: 0.0222\n",
      "Test loss: 0.02220015600323677\n"
     ]
    }
   ],
   "source": [
    "results = model.evaluate(testX, testY)\n",
    "test_loss.append(results)\n",
    "print('Test loss:', results)"
   ]
  },
  {
   "cell_type": "code",
   "execution_count": 28,
   "id": "72303942",
   "metadata": {},
   "outputs": [],
   "source": [
    "inv_testY = SS_tt[0][30].inverse_transform(testY)\n",
    "inv_testPredict = SS_tt[0][30].inverse_transform(testPredict)"
   ]
  },
  {
   "cell_type": "code",
   "execution_count": 29,
   "id": "76114f48",
   "metadata": {},
   "outputs": [
    {
     "name": "stdout",
     "output_type": "stream",
     "text": [
      "\n",
      "Test Mean Absolute Error: 0.067614 MAE\n",
      "Test Mean Square Error: 0.005864 MSE\n",
      "Test Mean Absolute Percentage Error: 0.045026 MAPE\n",
      "Test Root Mean Squared Error: 0.076578 RMSE\n"
     ]
    }
   ],
   "source": [
    "test_mae = mean_absolute_error(inv_testY, inv_testPredict)\n",
    "test_mse = mean_squared_error(inv_testY, inv_testPredict)\n",
    "test_mape = mean_absolute_percentage_error(inv_testY, inv_testPredict)\n",
    "test_rmse = np.sqrt(mean_squared_error(inv_testY, inv_testPredict))\n",
    "print('\\nTest Mean Absolute Error: %f MAE' % test_mae)\n",
    "print('Test Mean Square Error: %f MSE' % test_mse)\n",
    "print('Test Mean Absolute Percentage Error: %f MAPE' %test_mape)\n",
    "print('Test Root Mean Squared Error: %f RMSE' % test_rmse)\n",
    "# import pdb; pdb.set_trace()"
   ]
  },
  {
   "cell_type": "code",
   "execution_count": 12,
   "id": "8cf611f8",
   "metadata": {},
   "outputs": [],
   "source": [
    "def plot_pred(predict, true, save_dir, model_dir, name):    # Plot test prediction\n",
    "    predict = predict.reshape(predict.shape[0])\n",
    "    true = true.reshape(true.shape[0])\n",
    "    fig=plt.figure(figsize=(12, 4),dpi=150)\n",
    "    plt.plot(predict,label='Prediction')\n",
    "    plt.plot(true,label='True')\n",
    "    plt.xlabel('Number of Cycle',fontsize=13)\n",
    "    plt.ylabel('DIscharge Capacity (Ah)',fontsize=13)\n",
    "    # plt.title(str(model_name.__name__)+' Prediction of Discharge Capacity of Test Data (B0005)',fontsize=14)\n",
    "    plt.legend(loc='upper right',fontsize=12)\n",
    "#     plt.savefig(os.path.join(save_dir, model_dir, name+'.png'))"
   ]
  },
  {
   "cell_type": "code",
   "execution_count": 13,
   "id": "1a1c269c",
   "metadata": {},
   "outputs": [
    {
     "ename": "NameError",
     "evalue": "name 'inv_testPredict' is not defined",
     "output_type": "error",
     "traceback": [
      "\u001b[1;31m---------------------------------------------------------------------------\u001b[0m",
      "\u001b[1;31mNameError\u001b[0m                                 Traceback (most recent call last)",
      "\u001b[1;32m~\\AppData\\Local\\Temp/ipykernel_21392/104817838.py\u001b[0m in \u001b[0;36m<module>\u001b[1;34m\u001b[0m\n\u001b[1;32m----> 1\u001b[1;33m \u001b[0mplot_pred\u001b[0m\u001b[1;33m(\u001b[0m\u001b[0minv_testPredict\u001b[0m\u001b[1;33m,\u001b[0m \u001b[0minv_testY\u001b[0m\u001b[1;33m,\u001b[0m \u001b[1;32mNone\u001b[0m\u001b[1;33m,\u001b[0m \u001b[1;32mNone\u001b[0m\u001b[1;33m,\u001b[0m\u001b[0mname\u001b[0m\u001b[1;33m=\u001b[0m\u001b[1;34m'test_pred'\u001b[0m\u001b[1;33m)\u001b[0m\u001b[1;33m\u001b[0m\u001b[1;33m\u001b[0m\u001b[0m\n\u001b[0m",
      "\u001b[1;31mNameError\u001b[0m: name 'inv_testPredict' is not defined"
     ]
    }
   ],
   "source": [
    "plot_pred(inv_testPredict, inv_testY, None, None,name='test_pred')"
   ]
  },
  {
   "cell_type": "code",
   "execution_count": null,
   "id": "80e0b2a7",
   "metadata": {},
   "outputs": [],
   "source": []
  }
 ],
 "metadata": {
  "kernelspec": {
   "display_name": "Python [conda env:tf]",
   "language": "python",
   "name": "conda-env-tf-py"
  },
  "language_info": {
   "codemirror_mode": {
    "name": "ipython",
    "version": 3
   },
   "file_extension": ".py",
   "mimetype": "text/x-python",
   "name": "python",
   "nbconvert_exporter": "python",
   "pygments_lexer": "ipython3",
   "version": "3.7.11"
  }
 },
 "nbformat": 4,
 "nbformat_minor": 5
}
